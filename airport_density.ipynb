{
 "cells": [
  {
   "cell_type": "code",
   "execution_count": 1,
   "id": "ec707622-7be5-460f-b825-091dd4e2f19c",
   "metadata": {
    "tags": []
   },
   "outputs": [],
   "source": [
    "import glob\n",
    "import pandas as pd"
   ]
  },
  {
   "cell_type": "markdown",
   "id": "512971af-53fd-4496-bc0b-fc21b26b8e8b",
   "metadata": {},
   "source": [
    "### Calculate Airport Departure Density"
   ]
  },
  {
   "cell_type": "code",
   "execution_count": 3,
   "id": "4b3aa859-7990-4acf-a878-19b3b3012d95",
   "metadata": {
    "tags": []
   },
   "outputs": [],
   "source": [
    "ref_date = pd.to_datetime('2014-01-01')"
   ]
  },
  {
   "cell_type": "code",
   "execution_count": 4,
   "id": "e691c8a4-c4d2-4635-be9a-c1a967008d51",
   "metadata": {
    "tags": []
   },
   "outputs": [],
   "source": [
    "def departure_data_reader(airport):\n",
    "    # read in csv files in the csv_flight folder, filter the data and combine them into one csv file\n",
    "    csv_files = glob.glob('csv_flight/report_*.csv')\n",
    "\n",
    "    # initialize an empty DataFrame to hold the cleaned DataFrames\n",
    "    departure_df = pd.DataFrame()\n",
    "\n",
    "    for file in csv_files:\n",
    "        df = pd.read_csv(file, low_memory=False)\n",
    "        # filter the data before combing them\n",
    "        df_cleaned = df[df['Origin'].isin(airport)]\n",
    "\n",
    "        # combine the cleaned DataFrame with the combined dataframe\n",
    "        departure_df = pd.concat([departure_df, df_cleaned], ignore_index=True)\n",
    "        \n",
    "        # only choose 3 columns in the combined dataset\n",
    "        departure_df = departure_df[['Origin', 'FlightDate', 'DepTime']].copy()\n",
    "        \n",
    "        # create the absolute day and minutes reference\n",
    "        departure_df['DaysSince'] = (pd.to_datetime(departure_df['FlightDate']) - ref_date).dt.days\n",
    "        departure_df['MinSince'] = departure_df['DaysSince'] * 1440 + (departure_df['DepTime'] // 100) * 60 + (departure_df['DepTime'] % 100)\n",
    "        \n",
    "        # sort data by MinSince\n",
    "        departure_df = departure_df.sort_values('MinSince')\n",
    "\n",
    "    print(\"Final shape of departure dataframe:\", departure_df.shape)\n",
    "    \n",
    "    return departure_df"
   ]
  },
  {
   "cell_type": "code",
   "execution_count": 5,
   "id": "1e5cedf9-9b87-4cec-953b-e583f30a15f6",
   "metadata": {
    "tags": []
   },
   "outputs": [
    {
     "name": "stdout",
     "output_type": "stream",
     "text": [
      "Final shape of departure dataframe: (1888279, 5)\n"
     ]
    }
   ],
   "source": [
    "atl_departure_df = departure_data_reader(['ATL'])"
   ]
  },
  {
   "cell_type": "code",
   "execution_count": 6,
   "id": "59112025-00e0-4b56-8322-b7f4760d017b",
   "metadata": {
    "tags": []
   },
   "outputs": [
    {
     "data": {
      "text/html": [
       "<div>\n",
       "<style scoped>\n",
       "    .dataframe tbody tr th:only-of-type {\n",
       "        vertical-align: middle;\n",
       "    }\n",
       "\n",
       "    .dataframe tbody tr th {\n",
       "        vertical-align: top;\n",
       "    }\n",
       "\n",
       "    .dataframe thead th {\n",
       "        text-align: right;\n",
       "    }\n",
       "</style>\n",
       "<table border=\"1\" class=\"dataframe\">\n",
       "  <thead>\n",
       "    <tr style=\"text-align: right;\">\n",
       "      <th></th>\n",
       "      <th>Origin</th>\n",
       "      <th>FlightDate</th>\n",
       "      <th>DepTime</th>\n",
       "      <th>DaysSince</th>\n",
       "      <th>MinSince</th>\n",
       "    </tr>\n",
       "  </thead>\n",
       "  <tbody>\n",
       "    <tr>\n",
       "      <th>0</th>\n",
       "      <td>ATL</td>\n",
       "      <td>2014-01-01</td>\n",
       "      <td>557.0</td>\n",
       "      <td>0</td>\n",
       "      <td>357.0</td>\n",
       "    </tr>\n",
       "    <tr>\n",
       "      <th>1</th>\n",
       "      <td>ATL</td>\n",
       "      <td>2014-01-01</td>\n",
       "      <td>612.0</td>\n",
       "      <td>0</td>\n",
       "      <td>372.0</td>\n",
       "    </tr>\n",
       "    <tr>\n",
       "      <th>2</th>\n",
       "      <td>ATL</td>\n",
       "      <td>2014-01-01</td>\n",
       "      <td>625.0</td>\n",
       "      <td>0</td>\n",
       "      <td>385.0</td>\n",
       "    </tr>\n",
       "    <tr>\n",
       "      <th>3</th>\n",
       "      <td>ATL</td>\n",
       "      <td>2014-01-01</td>\n",
       "      <td>629.0</td>\n",
       "      <td>0</td>\n",
       "      <td>389.0</td>\n",
       "    </tr>\n",
       "    <tr>\n",
       "      <th>4</th>\n",
       "      <td>ATL</td>\n",
       "      <td>2014-01-01</td>\n",
       "      <td>636.0</td>\n",
       "      <td>0</td>\n",
       "      <td>396.0</td>\n",
       "    </tr>\n",
       "  </tbody>\n",
       "</table>\n",
       "</div>"
      ],
      "text/plain": [
       "  Origin  FlightDate  DepTime  DaysSince  MinSince\n",
       "0    ATL  2014-01-01    557.0          0     357.0\n",
       "1    ATL  2014-01-01    612.0          0     372.0\n",
       "2    ATL  2014-01-01    625.0          0     385.0\n",
       "3    ATL  2014-01-01    629.0          0     389.0\n",
       "4    ATL  2014-01-01    636.0          0     396.0"
      ]
     },
     "execution_count": 6,
     "metadata": {},
     "output_type": "execute_result"
    }
   ],
   "source": [
    "atl_departure_df.head()"
   ]
  },
  {
   "cell_type": "code",
   "execution_count": 7,
   "id": "b5643612-8450-49f4-a4d7-0c2ad3e79f91",
   "metadata": {
    "tags": []
   },
   "outputs": [],
   "source": [
    "def departure_density_calculator(airport_df):\n",
    "    # Define the start and end datetime\n",
    "    start_date = pd.to_datetime('2014-01-01')\n",
    "    end_date = pd.to_datetime('2018-12-31 23:59')\n",
    "\n",
    "    # Create a date range of minutes\n",
    "    all_minutes = pd.date_range(start=start_date, end=end_date, freq='T')\n",
    "\n",
    "    # Create DataFrame from the range\n",
    "    all_minutes_df = pd.DataFrame(all_minutes, columns=['FullMinutes'])\n",
    "    all_minutes_df['MinSince'] = (all_minutes_df['FullMinutes'] - ref_date).dt.total_seconds() // 60\n",
    "    \n",
    "    # calculate departure counts of the airport dataframe\n",
    "    departure_counts = airport_df.groupby('MinSince').size().reset_index(name='DepartureCount')\n",
    "    \n",
    "    # merge DepartureCount into Full Minutes Range Dataframe\n",
    "    full_minute_df = all_minutes_df.merge(departure_counts, on='MinSince', how='left')\n",
    "    full_minute_df['DepartureCount'].fillna(0, inplace=True)\n",
    "    \n",
    "    # calculate the departure density for every minutes from 2014-01-01 to 2018-12-31\n",
    "    full_minute_df['DepartureDensity'] = full_minute_df['DepartureCount'].rolling(window=120, min_periods=1, center=True).sum()\n",
    "    full_minute_df = full_minute_df[['MinSince', 'DepartureCount', 'DepartureDensity']].copy()\n",
    "    \n",
    "    return full_minute_df"
   ]
  },
  {
   "cell_type": "code",
   "execution_count": 8,
   "id": "14a90a61-355d-48cc-be35-80a4c069a00e",
   "metadata": {
    "tags": []
   },
   "outputs": [],
   "source": [
    "atl_departure_density = departure_density_calculator(atl_departure_df)"
   ]
  },
  {
   "cell_type": "code",
   "execution_count": 9,
   "id": "de104f1c-4dfa-42ef-9992-a964e0ad5df6",
   "metadata": {
    "tags": []
   },
   "outputs": [
    {
     "data": {
      "text/html": [
       "<div>\n",
       "<style scoped>\n",
       "    .dataframe tbody tr th:only-of-type {\n",
       "        vertical-align: middle;\n",
       "    }\n",
       "\n",
       "    .dataframe tbody tr th {\n",
       "        vertical-align: top;\n",
       "    }\n",
       "\n",
       "    .dataframe thead th {\n",
       "        text-align: right;\n",
       "    }\n",
       "</style>\n",
       "<table border=\"1\" class=\"dataframe\">\n",
       "  <thead>\n",
       "    <tr style=\"text-align: right;\">\n",
       "      <th></th>\n",
       "      <th>MinSince</th>\n",
       "      <th>DepartureCount</th>\n",
       "      <th>DepartureDensity</th>\n",
       "    </tr>\n",
       "  </thead>\n",
       "  <tbody>\n",
       "    <tr>\n",
       "      <th>331</th>\n",
       "      <td>331.0</td>\n",
       "      <td>0.0</td>\n",
       "      <td>4.0</td>\n",
       "    </tr>\n",
       "  </tbody>\n",
       "</table>\n",
       "</div>"
      ],
      "text/plain": [
       "     MinSince  DepartureCount  DepartureDensity\n",
       "331     331.0             0.0               4.0"
      ]
     },
     "execution_count": 9,
     "metadata": {},
     "output_type": "execute_result"
    }
   ],
   "source": [
    "# check the density value of the first day\n",
    "atl_departure_density.loc[atl_departure_density['MinSince'] == 331]"
   ]
  },
  {
   "cell_type": "code",
   "execution_count": 10,
   "id": "7a46076a-f304-4cfa-b17e-5672b6936a6c",
   "metadata": {
    "tags": []
   },
   "outputs": [],
   "source": [
    "atl_departure_density.to_csv('csv_density/ATL_departure.csv', index=False) "
   ]
  },
  {
   "cell_type": "code",
   "execution_count": 11,
   "id": "405241da-2e46-4ecf-85b5-982b30726b4c",
   "metadata": {
    "tags": []
   },
   "outputs": [
    {
     "name": "stdout",
     "output_type": "stream",
     "text": [
      "Final shape of departure dataframe: (1888279, 5)\n",
      "Final shape of departure dataframe: (1444067, 5)\n",
      "Final shape of departure dataframe: (1195459, 5)\n",
      "Final shape of departure dataframe: (1123686, 5)\n",
      "Final shape of departure dataframe: (679227, 5)\n",
      "Final shape of departure dataframe: (1083099, 5)\n",
      "Final shape of departure dataframe: (774212, 5)\n",
      "Final shape of departure dataframe: (807807, 5)\n",
      "Final shape of departure dataframe: (851909, 5)\n"
     ]
    }
   ],
   "source": [
    "# calculate departure density for all 9 main airports\n",
    "airports = ['ATL', 'ORD', 'DFW', 'DEN', 'CLT', 'LAX', 'IAH', 'PHX', 'SFO']\n",
    "\n",
    "for airport in airports:\n",
    "    departure_df = departure_data_reader([airport])\n",
    "    departure_density = departure_density_calculator(departure_df)\n",
    "    departure_density.to_csv(f'csv_density/{airport}_departure.csv', index=False)"
   ]
  },
  {
   "cell_type": "markdown",
   "id": "5e1bb034-c10a-43a7-8331-2703c9687d4e",
   "metadata": {},
   "source": [
    "### Calculate Airport Arrival Density"
   ]
  },
  {
   "cell_type": "code",
   "execution_count": 13,
   "id": "fb479c6b-36c8-4fb0-9ec5-fde84e98b217",
   "metadata": {
    "tags": []
   },
   "outputs": [],
   "source": [
    "ref_date = pd.to_datetime('2014-01-01')"
   ]
  },
  {
   "cell_type": "code",
   "execution_count": 14,
   "id": "78cf8335-d40d-436a-9c23-6cd51a465069",
   "metadata": {
    "tags": []
   },
   "outputs": [],
   "source": [
    "def arrival_data_reader(airport):\n",
    "    # read in multiple csv files in the csv_flight folder, filter the data and combine them into one csv file\n",
    "    csv_files = glob.glob('csv_flight/report_*.csv')\n",
    "\n",
    "    # initialize an empty DataFrame to hold the cleaned DataFrames\n",
    "    arrival_df = pd.DataFrame()\n",
    "\n",
    "    for file in csv_files:\n",
    "        df = pd.read_csv(file, low_memory=False)\n",
    "        # filter the data before combing them\n",
    "        df_cleaned = df[df['Dest'].isin(airport)]\n",
    "\n",
    "        # combine the cleaned DataFrame with the combined dataframe\n",
    "        arrival_df = pd.concat([arrival_df, df_cleaned], ignore_index=True)\n",
    "        \n",
    "        # only choose 4 columns in the combined dataset\n",
    "        arrival_df = arrival_df[['Dest', 'FlightDate', 'DepTime', 'ActualElapsedTime']].copy()\n",
    "        arrival_df['DaysSince'] = (pd.to_datetime(arrival_df['FlightDate']) - ref_date).dt.days\n",
    "        arrival_df['MinSince'] = arrival_df['DaysSince'] * 1440 + (arrival_df['DepTime'] // 100) * 60 + (arrival_df['DepTime'] % 100) + arrival_df['ActualElapsedTime']\n",
    "        \n",
    "        arrival_df = arrival_df.sort_values('MinSince')\n",
    "\n",
    "    print(\"Final shape of arrival dataframe:\", arrival_df.shape)\n",
    "    \n",
    "    return arrival_df"
   ]
  },
  {
   "cell_type": "code",
   "execution_count": 15,
   "id": "53b413b3-6039-4c6c-b0f3-6cb176ca5733",
   "metadata": {
    "tags": []
   },
   "outputs": [
    {
     "name": "stdout",
     "output_type": "stream",
     "text": [
      "Final shape of arrival dataframe: (1888267, 6)\n"
     ]
    }
   ],
   "source": [
    "atl_arrival_df = arrival_data_reader(['ATL'])"
   ]
  },
  {
   "cell_type": "code",
   "execution_count": 16,
   "id": "2cef13fa-7772-4118-8725-8285fbd6527d",
   "metadata": {
    "tags": []
   },
   "outputs": [
    {
     "data": {
      "text/html": [
       "<div>\n",
       "<style scoped>\n",
       "    .dataframe tbody tr th:only-of-type {\n",
       "        vertical-align: middle;\n",
       "    }\n",
       "\n",
       "    .dataframe tbody tr th {\n",
       "        vertical-align: top;\n",
       "    }\n",
       "\n",
       "    .dataframe thead th {\n",
       "        text-align: right;\n",
       "    }\n",
       "</style>\n",
       "<table border=\"1\" class=\"dataframe\">\n",
       "  <thead>\n",
       "    <tr style=\"text-align: right;\">\n",
       "      <th></th>\n",
       "      <th>Dest</th>\n",
       "      <th>FlightDate</th>\n",
       "      <th>DepTime</th>\n",
       "      <th>ActualElapsedTime</th>\n",
       "      <th>DaysSince</th>\n",
       "      <th>MinSince</th>\n",
       "    </tr>\n",
       "  </thead>\n",
       "  <tbody>\n",
       "    <tr>\n",
       "      <th>0</th>\n",
       "      <td>ATL</td>\n",
       "      <td>2014-01-01</td>\n",
       "      <td>50.0</td>\n",
       "      <td>151.0</td>\n",
       "      <td>0</td>\n",
       "      <td>201.0</td>\n",
       "    </tr>\n",
       "    <tr>\n",
       "      <th>1</th>\n",
       "      <td>ATL</td>\n",
       "      <td>2014-01-01</td>\n",
       "      <td>34.0</td>\n",
       "      <td>189.0</td>\n",
       "      <td>0</td>\n",
       "      <td>223.0</td>\n",
       "    </tr>\n",
       "    <tr>\n",
       "      <th>2</th>\n",
       "      <td>ATL</td>\n",
       "      <td>2014-01-01</td>\n",
       "      <td>22.0</td>\n",
       "      <td>205.0</td>\n",
       "      <td>0</td>\n",
       "      <td>227.0</td>\n",
       "    </tr>\n",
       "    <tr>\n",
       "      <th>3</th>\n",
       "      <td>ATL</td>\n",
       "      <td>2014-01-01</td>\n",
       "      <td>17.0</td>\n",
       "      <td>230.0</td>\n",
       "      <td>0</td>\n",
       "      <td>247.0</td>\n",
       "    </tr>\n",
       "    <tr>\n",
       "      <th>4</th>\n",
       "      <td>ATL</td>\n",
       "      <td>2014-01-01</td>\n",
       "      <td>13.0</td>\n",
       "      <td>261.0</td>\n",
       "      <td>0</td>\n",
       "      <td>274.0</td>\n",
       "    </tr>\n",
       "  </tbody>\n",
       "</table>\n",
       "</div>"
      ],
      "text/plain": [
       "  Dest  FlightDate  DepTime  ActualElapsedTime  DaysSince  MinSince\n",
       "0  ATL  2014-01-01     50.0              151.0          0     201.0\n",
       "1  ATL  2014-01-01     34.0              189.0          0     223.0\n",
       "2  ATL  2014-01-01     22.0              205.0          0     227.0\n",
       "3  ATL  2014-01-01     17.0              230.0          0     247.0\n",
       "4  ATL  2014-01-01     13.0              261.0          0     274.0"
      ]
     },
     "execution_count": 16,
     "metadata": {},
     "output_type": "execute_result"
    }
   ],
   "source": [
    "atl_arrival_df.head()"
   ]
  },
  {
   "cell_type": "code",
   "execution_count": 17,
   "id": "4ae914be-19da-425a-bff3-75a3561cdd67",
   "metadata": {
    "tags": []
   },
   "outputs": [],
   "source": [
    "def arrival_density_calculator(airport_df):\n",
    "    # Define the start and end datetime\n",
    "    start_date = pd.to_datetime('2014-01-01')\n",
    "    end_date = pd.to_datetime('2018-12-31 23:59')\n",
    "\n",
    "    # Create a date range of minutes\n",
    "    all_minutes = pd.date_range(start=start_date, end=end_date, freq='T')\n",
    "\n",
    "    # Create DataFrame from the range\n",
    "    all_minutes_df = pd.DataFrame(all_minutes, columns=['FullMinutes'])\n",
    "    all_minutes_df['MinSince'] = (all_minutes_df['FullMinutes'] - ref_date).dt.total_seconds() // 60\n",
    "    \n",
    "    # calculate arrival counts of the airport dataframe\n",
    "    arrival_counts = airport_df.groupby('MinSince').size().reset_index(name='ArrivalCount')\n",
    "    \n",
    "    # merge ArrivalCount into Full Minutes Range Dataframe\n",
    "    full_minute_df = all_minutes_df.merge(arrival_counts, on='MinSince', how='left')\n",
    "    full_minute_df['ArrivalCount'].fillna(0, inplace=True)\n",
    "    \n",
    "    # calculate the arrival density for every minutes from 2014-01-01 to 2018-12-31\n",
    "    full_minute_df['ArrivalDensity'] = full_minute_df['ArrivalCount'].rolling(window=120, min_periods=1, center=True).sum()\n",
    "    full_minute_df = full_minute_df[['MinSince', 'ArrivalCount', 'ArrivalDensity']].copy()\n",
    "    \n",
    "    return full_minute_df"
   ]
  },
  {
   "cell_type": "code",
   "execution_count": 18,
   "id": "a952d654-347f-4d89-ac93-56a0d06d6c17",
   "metadata": {
    "tags": []
   },
   "outputs": [],
   "source": [
    "atl_arrival_density = arrival_density_calculator(atl_arrival_df)"
   ]
  },
  {
   "cell_type": "code",
   "execution_count": 19,
   "id": "7aecbcbc-2368-4584-8d7e-56033958508f",
   "metadata": {
    "tags": []
   },
   "outputs": [
    {
     "data": {
      "text/html": [
       "<div>\n",
       "<style scoped>\n",
       "    .dataframe tbody tr th:only-of-type {\n",
       "        vertical-align: middle;\n",
       "    }\n",
       "\n",
       "    .dataframe tbody tr th {\n",
       "        vertical-align: top;\n",
       "    }\n",
       "\n",
       "    .dataframe thead th {\n",
       "        text-align: right;\n",
       "    }\n",
       "</style>\n",
       "<table border=\"1\" class=\"dataframe\">\n",
       "  <thead>\n",
       "    <tr style=\"text-align: right;\">\n",
       "      <th></th>\n",
       "      <th>MinSince</th>\n",
       "      <th>ArrivalCount</th>\n",
       "      <th>ArrivalDensity</th>\n",
       "    </tr>\n",
       "  </thead>\n",
       "  <tbody>\n",
       "    <tr>\n",
       "      <th>164</th>\n",
       "      <td>164.0</td>\n",
       "      <td>0.0</td>\n",
       "      <td>0.0</td>\n",
       "    </tr>\n",
       "  </tbody>\n",
       "</table>\n",
       "</div>"
      ],
      "text/plain": [
       "     MinSince  ArrivalCount  ArrivalDensity\n",
       "164     164.0           0.0             0.0"
      ]
     },
     "execution_count": 19,
     "metadata": {},
     "output_type": "execute_result"
    }
   ],
   "source": [
    "# check the density value of the first day\n",
    "atl_arrival_density.loc[atl_arrival_density['MinSince'] == 164]"
   ]
  },
  {
   "cell_type": "code",
   "execution_count": 20,
   "id": "515fcac2-c276-4db5-8618-bfc7588ba27f",
   "metadata": {
    "tags": []
   },
   "outputs": [],
   "source": [
    "atl_arrival_density.to_csv('csv_density/ATL_arrival.csv', index=False) "
   ]
  },
  {
   "cell_type": "code",
   "execution_count": 21,
   "id": "d4fe4441-aebd-449a-8ae8-75786c276a2a",
   "metadata": {
    "tags": []
   },
   "outputs": [
    {
     "name": "stdout",
     "output_type": "stream",
     "text": [
      "Final shape of arrival dataframe: (1888267, 6)\n",
      "Final shape of arrival dataframe: (1444099, 6)\n",
      "Final shape of arrival dataframe: (1195436, 6)\n",
      "Final shape of arrival dataframe: (1123681, 6)\n",
      "Final shape of arrival dataframe: (679233, 6)\n",
      "Final shape of arrival dataframe: (1083176, 6)\n",
      "Final shape of arrival dataframe: (774243, 6)\n",
      "Final shape of arrival dataframe: (807825, 6)\n",
      "Final shape of arrival dataframe: (852030, 6)\n"
     ]
    }
   ],
   "source": [
    "# calculate arrival density for all 9 main airports\n",
    "airports = ['ATL', 'ORD', 'DFW', 'DEN', 'CLT', 'LAX', 'IAH', 'PHX', 'SFO']\n",
    "\n",
    "for airport in airports:\n",
    "    arrival_df = arrival_data_reader([airport])\n",
    "    arrival_density = arrival_density_calculator(arrival_df)\n",
    "    arrival_density.to_csv(f'csv_density/{airport}_arrival.csv', index=False)"
   ]
  }
 ],
 "metadata": {
  "kernelspec": {
   "display_name": "Python 3 (ipykernel)",
   "language": "python",
   "name": "python3"
  },
  "language_info": {
   "codemirror_mode": {
    "name": "ipython",
    "version": 3
   },
   "file_extension": ".py",
   "mimetype": "text/x-python",
   "name": "python",
   "nbconvert_exporter": "python",
   "pygments_lexer": "ipython3",
   "version": "3.11.5"
  }
 },
 "nbformat": 4,
 "nbformat_minor": 5
}
