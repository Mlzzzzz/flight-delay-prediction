{
 "cells": [
  {
   "cell_type": "code",
   "execution_count": 1,
   "id": "ee10791f-9ca0-4669-bf12-dd7a09c14e6a",
   "metadata": {
    "tags": []
   },
   "outputs": [],
   "source": [
    "import pandas as pd\n",
    "from sklearn.model_selection import train_test_split\n",
    "from sklearn.preprocessing import StandardScaler\n",
    "import torch\n",
    "from torch import nn\n",
    "import torch.nn.functional as F"
   ]
  },
  {
   "cell_type": "code",
   "execution_count": 2,
   "id": "8f527a80-a193-4a52-9804-1c24ebd5769a",
   "metadata": {
    "tags": []
   },
   "outputs": [
    {
     "data": {
      "text/html": [
       "<div>\n",
       "<style scoped>\n",
       "    .dataframe tbody tr th:only-of-type {\n",
       "        vertical-align: middle;\n",
       "    }\n",
       "\n",
       "    .dataframe tbody tr th {\n",
       "        vertical-align: top;\n",
       "    }\n",
       "\n",
       "    .dataframe thead th {\n",
       "        text-align: right;\n",
       "    }\n",
       "</style>\n",
       "<table border=\"1\" class=\"dataframe\">\n",
       "  <thead>\n",
       "    <tr style=\"text-align: right;\">\n",
       "      <th></th>\n",
       "      <th>Year</th>\n",
       "      <th>Quarter</th>\n",
       "      <th>Month</th>\n",
       "      <th>DayofMonth</th>\n",
       "      <th>DayOfWeek</th>\n",
       "      <th>Tail_Number</th>\n",
       "      <th>Flight_Number_Reporting_Airline</th>\n",
       "      <th>OriginAirportSeqID</th>\n",
       "      <th>Origin</th>\n",
       "      <th>OriginCityName</th>\n",
       "      <th>...</th>\n",
       "      <th>Distance</th>\n",
       "      <th>is_holiday_week</th>\n",
       "      <th>OriginFlightDensity</th>\n",
       "      <th>Visibility</th>\n",
       "      <th>WindSpeed</th>\n",
       "      <th>SevereWeather</th>\n",
       "      <th>BadWeather</th>\n",
       "      <th>DepDelay</th>\n",
       "      <th>delay_binary</th>\n",
       "      <th>delay_interval</th>\n",
       "    </tr>\n",
       "  </thead>\n",
       "  <tbody>\n",
       "    <tr>\n",
       "      <th>0</th>\n",
       "      <td>2014</td>\n",
       "      <td>1</td>\n",
       "      <td>1</td>\n",
       "      <td>1</td>\n",
       "      <td>3</td>\n",
       "      <td>0</td>\n",
       "      <td>4974</td>\n",
       "      <td>1039705</td>\n",
       "      <td>0</td>\n",
       "      <td>0</td>\n",
       "      <td>...</td>\n",
       "      <td>689.0</td>\n",
       "      <td>1</td>\n",
       "      <td>2.0</td>\n",
       "      <td>10.0</td>\n",
       "      <td>5.0</td>\n",
       "      <td>0</td>\n",
       "      <td>0</td>\n",
       "      <td>-3.0</td>\n",
       "      <td>0</td>\n",
       "      <td>0</td>\n",
       "    </tr>\n",
       "    <tr>\n",
       "      <th>1</th>\n",
       "      <td>2014</td>\n",
       "      <td>1</td>\n",
       "      <td>1</td>\n",
       "      <td>1</td>\n",
       "      <td>3</td>\n",
       "      <td>1</td>\n",
       "      <td>1315</td>\n",
       "      <td>1039705</td>\n",
       "      <td>0</td>\n",
       "      <td>0</td>\n",
       "      <td>...</td>\n",
       "      <td>731.0</td>\n",
       "      <td>1</td>\n",
       "      <td>3.0</td>\n",
       "      <td>10.0</td>\n",
       "      <td>5.0</td>\n",
       "      <td>0</td>\n",
       "      <td>0</td>\n",
       "      <td>-2.0</td>\n",
       "      <td>0</td>\n",
       "      <td>0</td>\n",
       "    </tr>\n",
       "    <tr>\n",
       "      <th>2</th>\n",
       "      <td>2014</td>\n",
       "      <td>1</td>\n",
       "      <td>1</td>\n",
       "      <td>1</td>\n",
       "      <td>3</td>\n",
       "      <td>2</td>\n",
       "      <td>1134</td>\n",
       "      <td>1039705</td>\n",
       "      <td>0</td>\n",
       "      <td>0</td>\n",
       "      <td>...</td>\n",
       "      <td>606.0</td>\n",
       "      <td>1</td>\n",
       "      <td>3.0</td>\n",
       "      <td>10.0</td>\n",
       "      <td>5.0</td>\n",
       "      <td>0</td>\n",
       "      <td>0</td>\n",
       "      <td>2.0</td>\n",
       "      <td>1</td>\n",
       "      <td>1</td>\n",
       "    </tr>\n",
       "    <tr>\n",
       "      <th>3</th>\n",
       "      <td>2014</td>\n",
       "      <td>1</td>\n",
       "      <td>1</td>\n",
       "      <td>1</td>\n",
       "      <td>3</td>\n",
       "      <td>3</td>\n",
       "      <td>110</td>\n",
       "      <td>1039705</td>\n",
       "      <td>0</td>\n",
       "      <td>0</td>\n",
       "      <td>...</td>\n",
       "      <td>1947.0</td>\n",
       "      <td>1</td>\n",
       "      <td>6.0</td>\n",
       "      <td>10.0</td>\n",
       "      <td>3.0</td>\n",
       "      <td>0</td>\n",
       "      <td>0</td>\n",
       "      <td>21.0</td>\n",
       "      <td>1</td>\n",
       "      <td>3</td>\n",
       "    </tr>\n",
       "    <tr>\n",
       "      <th>4</th>\n",
       "      <td>2014</td>\n",
       "      <td>1</td>\n",
       "      <td>1</td>\n",
       "      <td>1</td>\n",
       "      <td>3</td>\n",
       "      <td>4</td>\n",
       "      <td>1347</td>\n",
       "      <td>1039705</td>\n",
       "      <td>0</td>\n",
       "      <td>0</td>\n",
       "      <td>...</td>\n",
       "      <td>2139.0</td>\n",
       "      <td>1</td>\n",
       "      <td>6.0</td>\n",
       "      <td>10.0</td>\n",
       "      <td>3.0</td>\n",
       "      <td>0</td>\n",
       "      <td>0</td>\n",
       "      <td>-2.0</td>\n",
       "      <td>0</td>\n",
       "      <td>0</td>\n",
       "    </tr>\n",
       "  </tbody>\n",
       "</table>\n",
       "<p>5 rows × 30 columns</p>\n",
       "</div>"
      ],
      "text/plain": [
       "   Year  Quarter  Month  DayofMonth  DayOfWeek  Tail_Number  \\\n",
       "0  2014        1      1           1          3            0   \n",
       "1  2014        1      1           1          3            1   \n",
       "2  2014        1      1           1          3            2   \n",
       "3  2014        1      1           1          3            3   \n",
       "4  2014        1      1           1          3            4   \n",
       "\n",
       "   Flight_Number_Reporting_Airline  OriginAirportSeqID  Origin  \\\n",
       "0                             4974             1039705       0   \n",
       "1                             1315             1039705       0   \n",
       "2                             1134             1039705       0   \n",
       "3                              110             1039705       0   \n",
       "4                             1347             1039705       0   \n",
       "\n",
       "   OriginCityName  ...  Distance  is_holiday_week  OriginFlightDensity  \\\n",
       "0               0  ...     689.0                1                  2.0   \n",
       "1               0  ...     731.0                1                  3.0   \n",
       "2               0  ...     606.0                1                  3.0   \n",
       "3               0  ...    1947.0                1                  6.0   \n",
       "4               0  ...    2139.0                1                  6.0   \n",
       "\n",
       "   Visibility  WindSpeed  SevereWeather  BadWeather  DepDelay  delay_binary  \\\n",
       "0        10.0        5.0              0           0      -3.0             0   \n",
       "1        10.0        5.0              0           0      -2.0             0   \n",
       "2        10.0        5.0              0           0       2.0             1   \n",
       "3        10.0        3.0              0           0      21.0             1   \n",
       "4        10.0        3.0              0           0      -2.0             0   \n",
       "\n",
       "   delay_interval  \n",
       "0               0  \n",
       "1               0  \n",
       "2               1  \n",
       "3               3  \n",
       "4               0  \n",
       "\n",
       "[5 rows x 30 columns]"
      ]
     },
     "execution_count": 2,
     "metadata": {},
     "output_type": "execute_result"
    }
   ],
   "source": [
    "df = pd.read_csv('csv_flight/df_nums.csv')\n",
    "df.head()"
   ]
  },
  {
   "cell_type": "code",
   "execution_count": 3,
   "id": "5283ef5f-b70c-4353-8c64-421b47e4cb94",
   "metadata": {
    "tags": []
   },
   "outputs": [
    {
     "data": {
      "text/plain": [
       "Year                     int64\n",
       "Quarter                  int64\n",
       "Month                    int64\n",
       "DayofMonth               int64\n",
       "DayOfWeek                int64\n",
       "OriginAirportSeqID       int64\n",
       "Origin                   int64\n",
       "OriginCityName           int64\n",
       "OriginState              int64\n",
       "DestAirportSeqID         int64\n",
       "Dest                     int64\n",
       "DestCityName             int64\n",
       "DestState                int64\n",
       "CRSDepTime               int64\n",
       "CRSArrTime               int64\n",
       "Cancelled              float64\n",
       "Diverted               float64\n",
       "CRSElapsedTime         float64\n",
       "Distance               float64\n",
       "is_holiday_week          int64\n",
       "OriginFlightDensity    float64\n",
       "Visibility             float64\n",
       "WindSpeed              float64\n",
       "SevereWeather            int64\n",
       "BadWeather               int64\n",
       "DepDelay               float64\n",
       "delay_binary             int64\n",
       "delay_interval           int64\n",
       "dtype: object"
      ]
     },
     "execution_count": 3,
     "metadata": {},
     "output_type": "execute_result"
    }
   ],
   "source": [
    "df = df.drop(['Tail_Number', 'Flight_Number_Reporting_Airline'], axis=1)\n",
    "df.dtypes"
   ]
  },
  {
   "cell_type": "markdown",
   "id": "b2b9be24-4301-4662-90d4-d53f0a3d507f",
   "metadata": {},
   "source": [
    "#### Binary Classification"
   ]
  },
  {
   "cell_type": "code",
   "execution_count": 4,
   "id": "484d7b0e-842b-407a-839f-3d451887d166",
   "metadata": {
    "tags": []
   },
   "outputs": [
    {
     "data": {
      "text/plain": [
       "device(type='cuda')"
      ]
     },
     "execution_count": 4,
     "metadata": {},
     "output_type": "execute_result"
    }
   ],
   "source": [
    "device = torch.device(\"cuda\" if torch.cuda.is_available() else \"cpu\")\n",
    "device"
   ]
  },
  {
   "cell_type": "code",
   "execution_count": 5,
   "id": "7c8057fb-193c-490a-b41a-734ef5a10cfd",
   "metadata": {
    "tags": []
   },
   "outputs": [
    {
     "name": "stdout",
     "output_type": "stream",
     "text": [
      "Shape of X_train: torch.Size([1147599, 25])\n",
      "Shape of X_val: torch.Size([245914, 25])\n",
      "Shape of X_test: torch.Size([245915, 25])\n",
      "Shape of y_train: torch.Size([1147599])\n",
      "Shape of y_val: torch.Size([245914])\n",
      "Shape of y_test: torch.Size([245915])\n"
     ]
    }
   ],
   "source": [
    "X = df.iloc[:, 0:25].values\n",
    "scaler = StandardScaler()\n",
    "X = scaler.fit_transform(X)\n",
    "\n",
    "y = df.iloc[:, 26].values\n",
    "\n",
    "# create 70% traning, 15% validation, 15% test split\n",
    "X_train, X_temp, y_train, y_temp = train_test_split(X, y, test_size=0.30, random_state=123)\n",
    "X_val, X_test, y_val, y_test = train_test_split(X_temp, y_temp, test_size=0.50, random_state=123)\n",
    "\n",
    "X_train = torch.tensor(X_train, dtype=torch.float32).to(device)\n",
    "y_train = torch.tensor(y_train, dtype=torch.float32).to(device)\n",
    "X_val = torch.tensor(X_val, dtype=torch.float32).to(device)\n",
    "y_val = torch.tensor(y_val, dtype=torch.float32).to(device)\n",
    "X_test = torch.tensor(X_test, dtype=torch.float32).to(device)\n",
    "y_test = torch.tensor(y_test, dtype=torch.float32).to(device)\n",
    "\n",
    "print(\"Shape of X_train:\", X_train.shape)\n",
    "print(\"Shape of X_val:\", X_val.shape)\n",
    "print(\"Shape of X_test:\", X_test.shape)\n",
    "print(\"Shape of y_train:\", y_train.shape)\n",
    "print(\"Shape of y_val:\", y_val.shape)\n",
    "print(\"Shape of y_test:\", y_test.shape)"
   ]
  },
  {
   "cell_type": "code",
   "execution_count": 6,
   "id": "a02907fd-af05-4dc6-99dd-e6f150fa5a67",
   "metadata": {
    "tags": []
   },
   "outputs": [],
   "source": [
    "class SimpleNN(nn.Module):\n",
    "    def __init__(self, input_size, hidden_size, output_size=1, num_hidden_layers=10):\n",
    "        super(SimpleNN, self).__init__()\n",
    "        # first layer\n",
    "        layers = [nn.Linear(input_size, hidden_size)]\n",
    "        \n",
    "        for _ in range(num_hidden_layers - 1):\n",
    "            layers.append(nn.Linear(hidden_size, hidden_size))\n",
    "        \n",
    "        # output layer\n",
    "        layers.append(nn.Linear(hidden_size, output_size))\n",
    "        \n",
    "        self.layers = nn.ModuleList(layers)\n",
    "\n",
    "    def forward(self, x):\n",
    "        for layer in self.layers[:-1]:\n",
    "            x = F.relu(layer(x))\n",
    "        x = self.layers[-1](x)\n",
    "        return x"
   ]
  },
  {
   "cell_type": "code",
   "execution_count": 7,
   "id": "055134a1-9ffc-4ba5-bbe9-c507f66b17c8",
   "metadata": {
    "tags": []
   },
   "outputs": [],
   "source": [
    "model = SimpleNN(input_size=25, hidden_size=64).to(device)\n",
    "optimizer = torch.optim.Adam(model.parameters(), lr=0.0003)\n",
    "loss_function = nn.BCEWithLogitsLoss()"
   ]
  },
  {
   "cell_type": "code",
   "execution_count": 8,
   "id": "fdbf84e2-eef0-42b3-ba0b-7d21a3ddf9fc",
   "metadata": {
    "tags": []
   },
   "outputs": [
    {
     "name": "stdout",
     "output_type": "stream",
     "text": [
      "Epoch 1, Train Loss: 0.6911, Train Accuracy: 58.17%, Val Loss: 0.6909, Val Accuracy: 57.91%\n",
      "Epoch 301, Train Loss: 0.6381, Train Accuracy: 63.21%, Val Loss: 0.6393, Val Accuracy: 63.03%\n",
      "Epoch 601, Train Loss: 0.6291, Train Accuracy: 64.41%, Val Loss: 0.6316, Val Accuracy: 64.06%\n",
      "Epoch 901, Train Loss: 0.6256, Train Accuracy: 64.85%, Val Loss: 0.6288, Val Accuracy: 64.51%\n",
      "Epoch 1201, Train Loss: 0.6235, Train Accuracy: 65.12%, Val Loss: 0.6271, Val Accuracy: 64.67%\n",
      "Epoch 1501, Train Loss: 0.6224, Train Accuracy: 65.26%, Val Loss: 0.6260, Val Accuracy: 64.82%\n",
      "Epoch 1801, Train Loss: 0.6214, Train Accuracy: 65.34%, Val Loss: 0.6254, Val Accuracy: 64.89%\n",
      "Epoch 2101, Train Loss: 0.6202, Train Accuracy: 65.49%, Val Loss: 0.6247, Val Accuracy: 64.98%\n",
      "Epoch 2401, Train Loss: 0.6195, Train Accuracy: 65.56%, Val Loss: 0.6243, Val Accuracy: 65.04%\n",
      "Epoch 2701, Train Loss: 0.6192, Train Accuracy: 65.62%, Val Loss: 0.6242, Val Accuracy: 65.04%\n",
      "Epoch 3001, Train Loss: 0.6186, Train Accuracy: 65.65%, Val Loss: 0.6239, Val Accuracy: 65.10%\n",
      "Epoch 3301, Train Loss: 0.6181, Train Accuracy: 65.73%, Val Loss: 0.6236, Val Accuracy: 65.15%\n",
      "Epoch 3601, Train Loss: 0.6175, Train Accuracy: 65.79%, Val Loss: 0.6233, Val Accuracy: 65.15%\n",
      "Epoch 3901, Train Loss: 0.6169, Train Accuracy: 65.84%, Val Loss: 0.6230, Val Accuracy: 65.21%\n",
      "Epoch 4201, Train Loss: 0.6165, Train Accuracy: 65.90%, Val Loss: 0.6228, Val Accuracy: 65.21%\n",
      "Epoch 4501, Train Loss: 0.6164, Train Accuracy: 65.89%, Val Loss: 0.6229, Val Accuracy: 65.30%\n",
      "Epoch 4801, Train Loss: 0.6162, Train Accuracy: 65.93%, Val Loss: 0.6226, Val Accuracy: 65.20%\n",
      "Epoch 5101, Train Loss: 0.6155, Train Accuracy: 65.99%, Val Loss: 0.6222, Val Accuracy: 65.30%\n",
      "Epoch 5401, Train Loss: 0.6151, Train Accuracy: 66.04%, Val Loss: 0.6222, Val Accuracy: 65.31%\n",
      "Epoch 5701, Train Loss: 0.6148, Train Accuracy: 66.07%, Val Loss: 0.6220, Val Accuracy: 65.28%\n"
     ]
    }
   ],
   "source": [
    "def train(model, train_features, train_labels, val_features, val_labels, optimizer, loss_function, epochs):\n",
    "    for epoch in range(epochs):\n",
    "        model.train()\n",
    "        optimizer.zero_grad()\n",
    "        train_outputs = model(train_features)\n",
    "        train_loss = loss_function(train_outputs.squeeze(), train_labels)\n",
    "        train_predictions = torch.sigmoid(train_outputs).squeeze() > 0.5\n",
    "        train_correct = (train_predictions == train_labels).sum().item()\n",
    "        train_accuracy = train_correct / len(train_labels)\n",
    "        train_loss.backward()\n",
    "        optimizer.step()\n",
    "        \n",
    "        if epoch % 300 == 0:\n",
    "            model.eval()\n",
    "            with torch.no_grad():\n",
    "                val_outputs = model(val_features)\n",
    "                val_loss = loss_function(val_outputs.squeeze(), val_labels)\n",
    "                val_predictions = torch.sigmoid(val_outputs).squeeze() > 0.5\n",
    "                val_correct = (val_predictions == val_labels).sum().item()\n",
    "                val_accuracy = val_correct / len(val_labels)\n",
    "            print(f'Epoch {epoch+1}, Train Loss: {train_loss.item():.4f}, Train Accuracy: {train_accuracy * 100:.2f}%, '\n",
    "                    f'Val Loss: {val_loss.item():.4f}, Val Accuracy: {val_accuracy * 100:.2f}%')\n",
    "\n",
    "train(model, X_train, y_train, X_val, y_val, optimizer, loss_function, epochs=6000)"
   ]
  },
  {
   "cell_type": "code",
   "execution_count": 9,
   "id": "87f4dbe8-b68e-4d70-9884-a7948f6e03fa",
   "metadata": {
    "tags": []
   },
   "outputs": [
    {
     "name": "stdout",
     "output_type": "stream",
     "text": [
      "Test Loss: 0.6218, Test Accuracy: 65.27%\n"
     ]
    }
   ],
   "source": [
    "def test(model, test_features, test_labels, loss_function):\n",
    "    model.eval() \n",
    "    with torch.no_grad():  \n",
    "        test_outputs = model(test_features)\n",
    "        test_loss = loss_function(test_outputs.squeeze(), test_labels)\n",
    "        test_predictions = torch.sigmoid(test_outputs).squeeze() > 0.5\n",
    "        test_correct = (test_predictions == test_labels).sum().item()\n",
    "        test_accuracy = test_correct / len(test_labels)\n",
    "        \n",
    "    print(f'Test Loss: {test_loss.item():.4f}, Test Accuracy: {test_accuracy * 100:.2f}%')\n",
    "    \n",
    "test(model, X_test, y_test, loss_function)"
   ]
  },
  {
   "cell_type": "markdown",
   "id": "086baca8-9ab6-41e2-9107-c087aa222d5c",
   "metadata": {},
   "source": [
    "#### Multiclass Classification"
   ]
  },
  {
   "cell_type": "code",
   "execution_count": 10,
   "id": "e0681ca7-996b-4b70-bd09-86d69a4d4d8a",
   "metadata": {
    "tags": []
   },
   "outputs": [
    {
     "data": {
      "text/plain": [
       "device(type='cuda')"
      ]
     },
     "execution_count": 10,
     "metadata": {},
     "output_type": "execute_result"
    }
   ],
   "source": [
    "device = torch.device(\"cuda\" if torch.cuda.is_available() else \"cpu\")\n",
    "device"
   ]
  },
  {
   "cell_type": "code",
   "execution_count": 11,
   "id": "c301929d-3b16-42ab-a7c1-d1ddcc1e5179",
   "metadata": {
    "tags": []
   },
   "outputs": [
    {
     "name": "stdout",
     "output_type": "stream",
     "text": [
      "Shape of X_train: torch.Size([1147599, 25])\n",
      "Shape of X_val: torch.Size([245914, 25])\n",
      "Shape of X_test: torch.Size([245915, 25])\n",
      "Shape of y_train: torch.Size([1147599])\n",
      "Shape of y_val: torch.Size([245914])\n",
      "Shape of y_test: torch.Size([245915])\n"
     ]
    }
   ],
   "source": [
    "X = df.iloc[:, 0:25].values\n",
    "scaler = StandardScaler()\n",
    "X = scaler.fit_transform(X)\n",
    "\n",
    "y = df.iloc[:, 26].values\n",
    "\n",
    "# create 70% traning, 15% validation, 15% test split\n",
    "X_train, X_temp, y_train, y_temp = train_test_split(X, y, test_size=0.30, random_state=123)\n",
    "X_val, X_test, y_val, y_test = train_test_split(X_temp, y_temp, test_size=0.50, random_state=123)\n",
    "\n",
    "X_train = torch.tensor(X_train, dtype=torch.float32).to(device)\n",
    "y_train = torch.tensor(y_train, dtype=torch.long).to(device)\n",
    "X_val = torch.tensor(X_val, dtype=torch.float32).to(device)\n",
    "y_val = torch.tensor(y_val, dtype=torch.long).to(device)\n",
    "X_test = torch.tensor(X_test, dtype=torch.float32).to(device)\n",
    "y_test = torch.tensor(y_test, dtype=torch.long).to(device)\n",
    "\n",
    "print(\"Shape of X_train:\", X_train.shape)\n",
    "print(\"Shape of X_val:\", X_val.shape)\n",
    "print(\"Shape of X_test:\", X_test.shape)\n",
    "print(\"Shape of y_train:\", y_train.shape)\n",
    "print(\"Shape of y_val:\", y_val.shape)\n",
    "print(\"Shape of y_test:\", y_test.shape)"
   ]
  },
  {
   "cell_type": "code",
   "execution_count": 12,
   "id": "ad537622-cd31-475e-b8ad-1ac331d17efd",
   "metadata": {
    "tags": []
   },
   "outputs": [],
   "source": [
    "class SimpleNN(nn.Module):\n",
    "    def __init__(self, input_size, hidden_size, output_size=14, num_hidden_layers=10):\n",
    "        super(SimpleNN, self).__init__()\n",
    "        # first layer\n",
    "        layers = [nn.Linear(input_size, hidden_size)]\n",
    "        \n",
    "        for _ in range(num_hidden_layers - 1):\n",
    "            layers.append(nn.Linear(hidden_size, hidden_size))\n",
    "        \n",
    "        # output layer\n",
    "        layers.append(nn.Linear(hidden_size, output_size))\n",
    "        \n",
    "        self.layers = nn.ModuleList(layers)\n",
    "\n",
    "    def forward(self, x):\n",
    "        for layer in self.layers[:-1]:\n",
    "            x = F.relu(layer(x))\n",
    "        x = self.layers[-1](x)\n",
    "        return x"
   ]
  },
  {
   "cell_type": "code",
   "execution_count": 13,
   "id": "f77c7a8b-848b-42ac-b536-4865b1c0e9c0",
   "metadata": {
    "tags": []
   },
   "outputs": [],
   "source": [
    "model = SimpleNN(input_size=25, hidden_size=64).to(device)\n",
    "optimizer = torch.optim.Adam(model.parameters(), lr=0.0003)\n",
    "loss_function = nn.CrossEntropyLoss()"
   ]
  },
  {
   "cell_type": "code",
   "execution_count": 14,
   "id": "fce13f8f-e0a6-4ea8-9a28-721249c92d7f",
   "metadata": {
    "tags": []
   },
   "outputs": [
    {
     "name": "stdout",
     "output_type": "stream",
     "text": [
      "Epoch 1, Train Loss: 2.6085, Train Accuracy: 0.00%, Val Loss: 2.6051, Val Accuracy: 0.00%\n",
      "Epoch 301, Train Loss: 0.6729, Train Accuracy: 58.17%, Val Loss: 0.6739, Val Accuracy: 57.91%\n",
      "Epoch 601, Train Loss: 0.6464, Train Accuracy: 62.03%, Val Loss: 0.6469, Val Accuracy: 61.96%\n",
      "Epoch 901, Train Loss: 0.6426, Train Accuracy: 62.58%, Val Loss: 0.6432, Val Accuracy: 62.48%\n",
      "Epoch 1201, Train Loss: 0.6400, Train Accuracy: 62.96%, Val Loss: 0.6411, Val Accuracy: 62.76%\n",
      "Epoch 1501, Train Loss: 0.6372, Train Accuracy: 63.42%, Val Loss: 0.6384, Val Accuracy: 63.24%\n",
      "Epoch 1801, Train Loss: 0.6350, Train Accuracy: 63.74%, Val Loss: 0.6362, Val Accuracy: 63.56%\n",
      "Epoch 2101, Train Loss: 0.6325, Train Accuracy: 64.06%, Val Loss: 0.6342, Val Accuracy: 63.78%\n",
      "Epoch 2401, Train Loss: 0.6307, Train Accuracy: 64.30%, Val Loss: 0.6326, Val Accuracy: 63.98%\n",
      "Epoch 2701, Train Loss: 0.6289, Train Accuracy: 64.52%, Val Loss: 0.6313, Val Accuracy: 64.14%\n",
      "Epoch 3001, Train Loss: 0.6276, Train Accuracy: 64.70%, Val Loss: 0.6302, Val Accuracy: 64.30%\n",
      "Epoch 3301, Train Loss: 0.6265, Train Accuracy: 64.85%, Val Loss: 0.6292, Val Accuracy: 64.40%\n",
      "Epoch 3601, Train Loss: 0.6254, Train Accuracy: 64.95%, Val Loss: 0.6283, Val Accuracy: 64.47%\n",
      "Epoch 3901, Train Loss: 0.6246, Train Accuracy: 65.05%, Val Loss: 0.6275, Val Accuracy: 64.60%\n",
      "Epoch 4201, Train Loss: 0.6240, Train Accuracy: 65.09%, Val Loss: 0.6270, Val Accuracy: 64.65%\n",
      "Epoch 4501, Train Loss: 0.6231, Train Accuracy: 65.20%, Val Loss: 0.6263, Val Accuracy: 64.76%\n",
      "Epoch 4801, Train Loss: 0.6227, Train Accuracy: 65.24%, Val Loss: 0.6260, Val Accuracy: 64.75%\n",
      "Epoch 5101, Train Loss: 0.6221, Train Accuracy: 65.32%, Val Loss: 0.6254, Val Accuracy: 64.88%\n",
      "Epoch 5401, Train Loss: 0.6220, Train Accuracy: 65.31%, Val Loss: 0.6253, Val Accuracy: 64.96%\n",
      "Epoch 5701, Train Loss: 0.6213, Train Accuracy: 65.41%, Val Loss: 0.6248, Val Accuracy: 64.97%\n"
     ]
    }
   ],
   "source": [
    "def train(model, train_features, train_labels, val_features, val_labels, optimizer, loss_function, epochs):\n",
    "    for epoch in range(epochs):\n",
    "        model.train()\n",
    "        optimizer.zero_grad()\n",
    "        train_outputs = model(train_features)\n",
    "        train_loss = loss_function(train_outputs, train_labels)\n",
    "        _, train_predictions = torch.max(train_outputs, 1)\n",
    "        train_correct = (train_predictions == train_labels).sum().item()\n",
    "        train_accuracy = train_correct / len(train_labels)\n",
    "        train_loss.backward()\n",
    "        optimizer.step()\n",
    "        \n",
    "        if epoch % 300 == 0:\n",
    "            model.eval()\n",
    "            with torch.no_grad():\n",
    "                val_outputs = model(val_features)\n",
    "                val_loss = loss_function(val_outputs, val_labels)\n",
    "                _, val_predictions = torch.max(val_outputs, 1)\n",
    "                val_correct = (val_predictions == val_labels).sum().item()\n",
    "                val_accuracy = val_correct / len(val_labels)\n",
    "            print(f'Epoch {epoch+1}, Train Loss: {train_loss.item():.4f}, Train Accuracy: {train_accuracy * 100:.2f}%, '\n",
    "                    f'Val Loss: {val_loss.item():.4f}, Val Accuracy: {val_accuracy * 100:.2f}%')\n",
    "\n",
    "train(model, X_train, y_train, X_val, y_val, optimizer, loss_function, epochs=6000)"
   ]
  },
  {
   "cell_type": "code",
   "execution_count": 15,
   "id": "450b164d-5b21-49aa-8d60-d33b5486d81e",
   "metadata": {
    "tags": []
   },
   "outputs": [
    {
     "name": "stdout",
     "output_type": "stream",
     "text": [
      "Test Loss: 0.6243, Test Accuracy: 64.94%\n"
     ]
    }
   ],
   "source": [
    "def test(model, test_features, test_labels, loss_function):\n",
    "    model.eval() \n",
    "    with torch.no_grad():  \n",
    "        test_outputs = model(test_features)\n",
    "        test_loss = loss_function(test_outputs, test_labels)\n",
    "        _, test_predictions = torch.max(test_outputs, 1)\n",
    "        test_correct = (test_predictions == test_labels).sum().item()\n",
    "        test_accuracy = test_correct / len(test_labels)\n",
    "        \n",
    "    print(f'Test Loss: {test_loss.item():.4f}, Test Accuracy: {test_accuracy * 100:.2f}%')\n",
    "    \n",
    "test(model, X_test, y_test, loss_function)"
   ]
  }
 ],
 "metadata": {
  "kernelspec": {
   "display_name": "Python 3 (ipykernel)",
   "language": "python",
   "name": "python3"
  },
  "language_info": {
   "codemirror_mode": {
    "name": "ipython",
    "version": 3
   },
   "file_extension": ".py",
   "mimetype": "text/x-python",
   "name": "python",
   "nbconvert_exporter": "python",
   "pygments_lexer": "ipython3",
   "version": "3.11.5"
  }
 },
 "nbformat": 4,
 "nbformat_minor": 5
}
