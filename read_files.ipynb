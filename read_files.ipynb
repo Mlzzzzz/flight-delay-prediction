{
 "cells": [
  {
   "cell_type": "code",
   "execution_count": 1,
   "id": "8843d59f-d295-45e3-91db-8b7cbead0b0d",
   "metadata": {
    "tags": []
   },
   "outputs": [],
   "source": [
    "\"\"\"\n",
    "data filter: \n",
    "1. Remove attributes with more than 50% data are NaN.\n",
    "2. Only select flights with both origin and destination airports are 9 main airports: ATL, ORD, DFW, DEN, CLT, LAX, IAH, PHX, SFO.\n",
    "3. Only select flights from top 5 airlines: UA, OO, WN, AA, DL.\n",
    "\"\"\"\n",
    "\n",
    "def data_filter(df):\n",
    "    # remove attributes with more than 50% data are NaN\n",
    "    nan_percentage = df.isnull().mean()\n",
    "    cols_to_remove = nan_percentage[nan_percentage > 0.5].index.tolist()\n",
    "    df_filtered = df.drop(columns=cols_to_remove)\n",
    "    \n",
    "    # select flights with both origin and destination airport are 9 main airports\n",
    "    main_airports = ['ATL', 'ORD', 'DFW', 'DEN', 'CLT', 'LAX', 'IAH', 'PHX', 'SFO']\n",
    "    df_filtered = df_filtered[df_filtered['Origin'].isin(main_airports) & df_filtered['Dest'].isin(main_airports)]\n",
    "     \n",
    "    # select flights from top 5 airlines\n",
    "    top_airlines = ['UA', 'OO', 'WN', 'AA', 'DL']\n",
    "    df_filtered = df_filtered[df_filtered['Reporting_Airline'].isin(top_airlines)]\n",
    "    \n",
    "    return df_filtered"
   ]
  },
  {
   "cell_type": "code",
   "execution_count": 2,
   "id": "c0f15482-fd6d-40fd-9fee-de7495d1ead1",
   "metadata": {
    "tags": []
   },
   "outputs": [
    {
     "name": "stdout",
     "output_type": "stream",
     "text": [
      "Processed 5/60 files. Current shape: (114913, 56)\n",
      "Processed 10/60 files. Current shape: (232864, 56)\n",
      "Processed 15/60 files. Current shape: (364001, 56)\n",
      "Processed 20/60 files. Current shape: (487663, 56)\n",
      "Processed 25/60 files. Current shape: (633337, 56)\n",
      "Processed 30/60 files. Current shape: (779914, 56)\n",
      "Processed 35/60 files. Current shape: (937123, 56)\n",
      "Processed 40/60 files. Current shape: (1081226, 56)\n",
      "Processed 45/60 files. Current shape: (1225583, 56)\n",
      "Processed 50/60 files. Current shape: (1372129, 56)\n",
      "Processed 55/60 files. Current shape: (1509971, 56)\n",
      "Processed 60/60 files. Current shape: (1658130, 56)\n",
      "Final shape of combined dataframe: (1658130, 56)\n"
     ]
    }
   ],
   "source": [
    "# read in multiple csv files in the csv_flight folder, filter the data and combine them into one csv file\n",
    "import glob\n",
    "import pandas as pd\n",
    "\n",
    "csv_files = glob.glob('csv_flight/report_*.csv')\n",
    "\n",
    "# initialize an empty DataFrame to hold the cleaned DataFrames\n",
    "combined_df = pd.DataFrame()\n",
    "\n",
    "# track the number of files processed\n",
    "files_processed = 0\n",
    "\n",
    "for file in csv_files:\n",
    "    df = pd.read_csv(file, low_memory=False)\n",
    "    # filter the data before combing them\n",
    "    df_cleaned = data_filter(df)\n",
    "    \n",
    "    # combine the cleaned DataFrame with the combined dataframe\n",
    "    combined_df = pd.concat([combined_df, df_cleaned], ignore_index=True)\n",
    "\n",
    "    files_processed += 1\n",
    "    if files_processed % 5 == 0:\n",
    "        print(f\"Processed {files_processed}/{len(csv_files)} files. Current shape: {combined_df.shape}\")\n",
    "\n",
    "print(\"Final shape of combined dataframe:\", combined_df.shape)"
   ]
  },
  {
   "cell_type": "code",
   "execution_count": 3,
   "id": "e605b220-0a8f-49e7-9aec-04cd5b57d924",
   "metadata": {
    "tags": []
   },
   "outputs": [
    {
     "name": "stdout",
     "output_type": "stream",
     "text": [
      "Index(['Year', 'Quarter', 'Month', 'DayofMonth', 'DayOfWeek', 'FlightDate',\n",
      "       'Reporting_Airline', 'DOT_ID_Reporting_Airline',\n",
      "       'IATA_CODE_Reporting_Airline', 'Tail_Number',\n",
      "       'Flight_Number_Reporting_Airline', 'OriginAirportID',\n",
      "       'OriginAirportSeqID', 'OriginCityMarketID', 'Origin', 'OriginCityName',\n",
      "       'OriginState', 'OriginStateFips', 'OriginStateName', 'OriginWac',\n",
      "       'DestAirportID', 'DestAirportSeqID', 'DestCityMarketID', 'Dest',\n",
      "       'DestCityName', 'DestState', 'DestStateFips', 'DestStateName',\n",
      "       'DestWac', 'CRSDepTime', 'DepTime', 'DepDelay', 'DepDelayMinutes',\n",
      "       'DepDel15', 'DepartureDelayGroups', 'DepTimeBlk', 'TaxiOut',\n",
      "       'WheelsOff', 'WheelsOn', 'TaxiIn', 'CRSArrTime', 'ArrTime', 'ArrDelay',\n",
      "       'ArrDelayMinutes', 'ArrDel15', 'ArrivalDelayGroups', 'ArrTimeBlk',\n",
      "       'Cancelled', 'Diverted', 'CRSElapsedTime', 'ActualElapsedTime',\n",
      "       'AirTime', 'Flights', 'Distance', 'DistanceGroup',\n",
      "       'DivAirportLandings'],\n",
      "      dtype='object')\n"
     ]
    }
   ],
   "source": [
    "print(combined_df.columns)"
   ]
  },
  {
   "cell_type": "code",
   "execution_count": 4,
   "id": "cfc7b1ac-f89a-4024-8822-e71d47de942e",
   "metadata": {
    "tags": []
   },
   "outputs": [
    {
     "name": "stdout",
     "output_type": "stream",
     "text": [
      "  Reporting_Airline  DOT_ID_Reporting_Airline  DOT_ID_Reporting_Airline\n",
      "0                DL                     19790                     19790\n",
      "1                DL                     19790                     19790\n",
      "2                DL                     19790                     19790\n",
      "3                DL                     19790                     19790\n",
      "4                DL                     19790                     19790\n",
      "Unique Reporting Airline: ['DL' 'OO' 'WN' 'UA' 'AA']\n",
      "Unique DOT ID Reporting Airline: [19790 20304 19393 19977 19805]\n",
      "Unique IATA CODE Reporting Airline: ['DL' 'OO' 'WN' 'UA' 'AA']\n"
     ]
    }
   ],
   "source": [
    "\"\"\"\n",
    "Reporting_Airline, DOT_ID_Reporting_Airline and DOT_ID_Reporting_Airline all \n",
    "represent the airline of a flight, DOT_ID_Reporting_Airline and DOT_ID_Reporting_Airline will be removed.\n",
    "\"\"\"\n",
    "\n",
    "print(combined_df[['Reporting_Airline', 'DOT_ID_Reporting_Airline', 'DOT_ID_Reporting_Airline']].head(5))\n",
    "print(\"Unique Reporting Airline:\", combined_df['Reporting_Airline'].unique())\n",
    "print(\"Unique DOT ID Reporting Airline:\", combined_df['DOT_ID_Reporting_Airline'].unique())\n",
    "print(\"Unique IATA CODE Reporting Airline:\", combined_df['IATA_CODE_Reporting_Airline'].unique())"
   ]
  },
  {
   "cell_type": "code",
   "execution_count": 5,
   "id": "d0af89af-570e-45d2-8d33-c650b70b24ed",
   "metadata": {
    "tags": []
   },
   "outputs": [
    {
     "name": "stdout",
     "output_type": "stream",
     "text": [
      "   OriginAirportID Origin\n",
      "0            10397    ATL\n",
      "1            11298    DFW\n",
      "2            10397    ATL\n",
      "3            10397    ATL\n",
      "4            14107    PHX\n",
      "Length of Unique OriginAirportID: 9\n",
      "Length of Unique Origin: 9\n"
     ]
    }
   ],
   "source": [
    "\"\"\"\n",
    "OriginAirportID and Origin both represent the origin airport of a flight, OriginAirportID will be removed.\n",
    "\"\"\"\n",
    "\n",
    "print(combined_df[['OriginAirportID', 'Origin']].head(5))\n",
    "print(\"Length of Unique OriginAirportID:\", len(combined_df['OriginAirportID'].unique()))\n",
    "print(\"Length of Unique Origin:\", len(combined_df['Origin'].unique()))"
   ]
  },
  {
   "cell_type": "code",
   "execution_count": 6,
   "id": "5b7ff0ff-9433-4d15-bc7d-9b24b8fcb2a5",
   "metadata": {},
   "outputs": [
    {
     "name": "stdout",
     "output_type": "stream",
     "text": [
      "   OriginCityMarketID         OriginCityName\n",
      "0               30397            Atlanta, GA\n",
      "1               30194  Dallas/Fort Worth, TX\n",
      "2               30397            Atlanta, GA\n",
      "3               30397            Atlanta, GA\n",
      "4               30466            Phoenix, AZ\n",
      "Length of Unique OriginCityMarketID: 9\n",
      "Length of Unique OriginCityName: 9\n"
     ]
    }
   ],
   "source": [
    "\"\"\"\n",
    "OriginCityMarketID and OriginCityName both represent the origin city of a flight, OriginCityMarketID will be removed.\n",
    "\"\"\"\n",
    "\n",
    "print(combined_df[['OriginCityMarketID', 'OriginCityName']].head(5))\n",
    "print(\"Length of Unique OriginCityMarketID:\", len(combined_df['OriginCityMarketID'].unique()))\n",
    "print(\"Length of Unique OriginCityName:\", len(combined_df['OriginCityName'].unique()))"
   ]
  },
  {
   "cell_type": "code",
   "execution_count": 7,
   "id": "3d853951-03ce-4edb-b0e7-f612da9fd59d",
   "metadata": {
    "tags": []
   },
   "outputs": [
    {
     "name": "stdout",
     "output_type": "stream",
     "text": [
      "  OriginState  OriginStateFips OriginStateName  OriginWac\n",
      "0          GA               13         Georgia         34\n",
      "1          TX               48           Texas         74\n",
      "2          GA               13         Georgia         34\n",
      "3          GA               13         Georgia         34\n",
      "4          AZ                4         Arizona         81\n",
      "Length of Unique OriginState: 7\n",
      "Length of Unique OriginStateFips: 7\n",
      "Length of Unique OriginStateName: 7\n",
      "Length of Unique OriginWac: 7\n"
     ]
    }
   ],
   "source": [
    "\"\"\"\n",
    "OriginState, OriginStateFips, OriginStateName and OriginWac all \n",
    "represent the origin state of a flight; OriginStateFips, OriginStateName and OriginWac will be removed.\n",
    "\"\"\"\n",
    "\n",
    "print(combined_df[['OriginState', 'OriginStateFips', 'OriginStateName', 'OriginWac']].head(5))\n",
    "print(\"Length of Unique OriginState:\", len(combined_df['OriginState'].unique()))\n",
    "print(\"Length of Unique OriginStateFips:\", len(combined_df['OriginStateFips'].unique()))\n",
    "print(\"Length of Unique OriginStateName:\", len(combined_df['OriginStateName'].unique()))\n",
    "print(\"Length of Unique OriginWac:\", len(combined_df['OriginWac'].unique()))"
   ]
  },
  {
   "cell_type": "code",
   "execution_count": 8,
   "id": "e307ec2b-9ed2-4b06-afcd-5c659324ae19",
   "metadata": {
    "tags": []
   },
   "outputs": [
    {
     "name": "stdout",
     "output_type": "stream",
     "text": [
      "   DestAirportID Dest\n",
      "0          12266  IAH\n",
      "1          10397  ATL\n",
      "2          11292  DEN\n",
      "3          14107  PHX\n",
      "4          10397  ATL\n",
      "Length of Unique DestAirportID: 9\n",
      "Length of Unique Dest: 9\n"
     ]
    }
   ],
   "source": [
    "\"\"\"\n",
    "DestAirportID and Dest both represent the destination airport of a flight, DestAirportID will be removed.\n",
    "\"\"\"\n",
    "\n",
    "print(combined_df[['DestAirportID', 'Dest']].head(5))\n",
    "print(\"Length of Unique DestAirportID:\", len(combined_df['DestAirportID'].unique()))\n",
    "print(\"Length of Unique Dest:\", len(combined_df['Dest'].unique()))"
   ]
  },
  {
   "cell_type": "code",
   "execution_count": 9,
   "id": "2e21dd00-5f50-4241-adae-f6e976a92615",
   "metadata": {
    "tags": []
   },
   "outputs": [
    {
     "name": "stdout",
     "output_type": "stream",
     "text": [
      "   DestCityMarketID DestCityName\n",
      "0             31453  Houston, TX\n",
      "1             30397  Atlanta, GA\n",
      "2             30325   Denver, CO\n",
      "3             30466  Phoenix, AZ\n",
      "4             30397  Atlanta, GA\n",
      "Length of Unique DestCityMarketID: 9\n",
      "Length of Unique DestCityName: 9\n"
     ]
    }
   ],
   "source": [
    "\"\"\"\n",
    "DestCityMarketID and DestCityName both represent the destination city of a flight, DestCityMarketID will be removed.\n",
    "\"\"\"\n",
    "\n",
    "print(combined_df[['DestCityMarketID', 'DestCityName']].head(5))\n",
    "print(\"Length of Unique DestCityMarketID:\", len(combined_df['DestCityMarketID'].unique()))\n",
    "print(\"Length of Unique DestCityName:\", len(combined_df['DestCityName'].unique()))"
   ]
  },
  {
   "cell_type": "code",
   "execution_count": 10,
   "id": "fcf03136-8d52-4270-8116-c07930e64e00",
   "metadata": {
    "tags": []
   },
   "outputs": [
    {
     "name": "stdout",
     "output_type": "stream",
     "text": [
      "  DestState  DestStateFips DestStateName  DestWac\n",
      "0        TX             48         Texas       74\n",
      "1        GA             13       Georgia       34\n",
      "2        CO              8      Colorado       82\n",
      "3        AZ              4       Arizona       81\n",
      "4        GA             13       Georgia       34\n",
      "Length of Unique DestState: 7\n",
      "Length of Unique DestStateFips: 7\n",
      "Length of Unique DestStateName: 7\n",
      "Length of Unique DestWac: 7\n"
     ]
    }
   ],
   "source": [
    "\"\"\"\n",
    "DestState, DestStateFips, DestStateName and DestWac all \n",
    "represent the destination state of a flight; DestStateFips, DestStateName and DestWac will be removed.\n",
    "\"\"\"\n",
    "\n",
    "print(combined_df[['DestState', 'DestStateFips', 'DestStateName', 'DestWac']].head(5))\n",
    "print(\"Length of Unique DestState:\", len(combined_df['DestState'].unique()))\n",
    "print(\"Length of Unique DestStateFips:\", len(combined_df['DestStateFips'].unique()))\n",
    "print(\"Length of Unique DestStateName:\", len(combined_df['DestStateName'].unique()))\n",
    "print(\"Length of Unique DestWac:\", len(combined_df['DestWac'].unique()))"
   ]
  },
  {
   "cell_type": "code",
   "execution_count": 11,
   "id": "c2a0607b-a851-48ce-b6f3-865668ae2a4e",
   "metadata": {
    "tags": []
   },
   "outputs": [
    {
     "name": "stdout",
     "output_type": "stream",
     "text": [
      "   CRSDepTime  DepTime  DepDelay\n",
      "0        2145   2143.0      -2.0\n",
      "1         945    937.0      -8.0\n",
      "2        1855   1853.0      -2.0\n",
      "3        1634   1633.0      -1.0\n",
      "4         700    653.0      -7.0\n",
      "5        1855   1858.0       3.0\n",
      "6        1445   1442.0      -3.0\n",
      "7         715    709.0      -6.0\n",
      "8        1205   1205.0       0.0\n",
      "9        1400   1355.0      -5.0\n"
     ]
    }
   ],
   "source": [
    "\"\"\"\n",
    "DepDelay is simply (DepTime - CRSDeptime). Since we will use DepDelay to generate our targets, we will remove DepTime.\n",
    "\"\"\"\n",
    "\n",
    "print(combined_df[['CRSDepTime', 'DepTime', 'DepDelay']].head(10))"
   ]
  },
  {
   "cell_type": "code",
   "execution_count": 12,
   "id": "40d87d23-d56c-42e9-81d5-3842ee2ca9db",
   "metadata": {
    "tags": []
   },
   "outputs": [
    {
     "name": "stdout",
     "output_type": "stream",
     "text": [
      "   DepDelay  DepDelayMinutes  DepDel15  DepartureDelayGroups\n",
      "0      -2.0              0.0       0.0                  -1.0\n",
      "1      -8.0              0.0       0.0                  -1.0\n",
      "2      -2.0              0.0       0.0                  -1.0\n",
      "3      -1.0              0.0       0.0                  -1.0\n",
      "4      -7.0              0.0       0.0                  -1.0\n",
      "5       3.0              3.0       0.0                   0.0\n",
      "6      -3.0              0.0       0.0                  -1.0\n",
      "7      -6.0              0.0       0.0                  -1.0\n",
      "8       0.0              0.0       0.0                   0.0\n",
      "9      -5.0              0.0       0.0                  -1.0\n"
     ]
    }
   ],
   "source": [
    "\"\"\"\n",
    "DepDelay: Difference in minutes between scheduled and actual departure time. Early departures show negative numbers.\n",
    "DepDelayMinutes: Difference in minutes between scheduled and actual departure time. Early departures set to 0.\n",
    "DepDel15: Departure Delay Indicator, 15 Minutes or More (1=Yes).\n",
    "DepartureDelayGroups: Departure Delay intervals, every (15 minutes from <-15 to >180).\n",
    "\n",
    "These four variables all represents delay time. We only need to keep DepDelay and we can derive any columns from it.\n",
    "\"\"\"\n",
    "\n",
    "print(combined_df[['DepDelay', 'DepDelayMinutes', 'DepDel15', 'DepartureDelayGroups']].head(10))"
   ]
  },
  {
   "cell_type": "code",
   "execution_count": 13,
   "id": "9be88fc8-d4cc-4d31-aa92-b424d8367c67",
   "metadata": {
    "tags": []
   },
   "outputs": [
    {
     "name": "stdout",
     "output_type": "stream",
     "text": [
      "   CRSDepTime DepTimeBlk\n",
      "0        2145  2100-2159\n",
      "1         945  0900-0959\n",
      "2        1855  1800-1859\n",
      "3        1634  1600-1659\n",
      "4         700  0700-0759\n",
      "5        1855  1800-1859\n",
      "6        1445  1400-1459\n",
      "7         715  0700-0759\n",
      "8        1205  1200-1259\n",
      "9        1400  1400-1459\n"
     ]
    }
   ],
   "source": [
    "\"\"\"\n",
    "CRSDepTime: CRS Departure Time (local time: hhmm).\n",
    "DepTimeBlk: CRS Departure Time Block, Hourly Intervals.\n",
    "\n",
    "These two variables both represents CRS departure time. We only need to keep CRSDepTime and we can derive any columns from it.\n",
    "\"\"\"\n",
    "\n",
    "print(combined_df[['CRSDepTime', 'DepTimeBlk']].head(10))"
   ]
  },
  {
   "cell_type": "code",
   "execution_count": 14,
   "id": "a71e0cf3-e956-4eb5-bab8-99add3244935",
   "metadata": {
    "tags": []
   },
   "outputs": [
    {
     "name": "stdout",
     "output_type": "stream",
     "text": [
      "   TaxiOut  ArrTime  ArrDelay  ActualElapsedTime\n",
      "0     19.0   2245.0     -20.0              122.0\n",
      "1     14.0   1241.0      -3.0              124.0\n",
      "2     23.0   2019.0      -7.0              206.0\n",
      "3     17.0   1847.0      -4.0              254.0\n",
      "4     13.0   1214.0     -13.0              201.0\n",
      "5     22.0   2010.0       8.0               72.0\n",
      "6     15.0   1915.0     -19.0              153.0\n",
      "7     12.0   1002.0      -8.0              113.0\n",
      "8     17.0   1312.0      -3.0               67.0\n",
      "9     15.0   1502.0     -17.0               67.0\n"
     ]
    }
   ],
   "source": [
    "\"\"\"\n",
    "TaxiOut: Taxi Out Time, in Minutes.\n",
    "WheelsOff: Wheels Off Time (local time: hhmm).\n",
    "WheelsOn: Wheels On Time (local time: hhmm).\n",
    "TaxiIn: Taxi In Time, in Minutes.\n",
    "ArrTime: Actual Arrival Time (local time: hhmm).\n",
    "ArrDelay: Difference in minutes between scheduled and actual arrival time. Early arrivals show negative numbers.\n",
    "ArrDelayMinutes: Difference in minutes between scheduled and actual arrival time. Early arrivals set to 0.\n",
    "ArrDel15: Arrival Delay Indicator, 15 Minutes or More (1=Yes).\n",
    "ArrivalDelayGroups: Arrival Delay intervals, every (15-minutes from <-15 to >180).\n",
    "ActualElapsedTime: Elapsed Time of Flight, in Minutes.\n",
    "AirTime: Flight Time, in Minutes.\n",
    "DivAirportLandings: Number of Diverted Airport Landings.\n",
    "\n",
    "The goal for this project is to predict if a flight will be delayed before it leaves. These arrival statistics will be removed.\n",
    "\"\"\"\n",
    "print(combined_df[['TaxiOut', 'ArrTime', 'ArrDelay', 'ActualElapsedTime']].head(10))"
   ]
  },
  {
   "cell_type": "code",
   "execution_count": 15,
   "id": "628a66f3-a065-4b83-a650-44426f99f19f",
   "metadata": {
    "tags": []
   },
   "outputs": [
    {
     "name": "stdout",
     "output_type": "stream",
     "text": [
      "   CRSArrTime ArrTimeBlk\n",
      "0        2305  2300-2359\n",
      "1        1244  1200-1259\n",
      "2        2026  2000-2059\n",
      "3        1851  1800-1859\n",
      "4        1227  1200-1259\n",
      "5        2002  2000-2059\n",
      "6        1934  1900-1959\n",
      "7        1010  1000-1059\n",
      "8        1315  1300-1359\n",
      "9        1519  1500-1559\n"
     ]
    }
   ],
   "source": [
    "\"\"\"\n",
    "CRSArrTime: CRS Arrival Time (local time: hhmm).\n",
    "ArrTimeBlk: CRS Arrival Time Block, Hourly Intervals\n",
    "\n",
    "These two variables both represents arrive time. We only need to keep CRSArrTime and we can derive any columns from it.\n",
    "\"\"\"\n",
    "\n",
    "print(combined_df[['CRSArrTime', 'ArrTimeBlk']].head(10))"
   ]
  },
  {
   "cell_type": "code",
   "execution_count": 16,
   "id": "390f6d44-4bdd-4f63-b8f6-eab88f30789c",
   "metadata": {
    "tags": []
   },
   "outputs": [
    {
     "name": "stdout",
     "output_type": "stream",
     "text": [
      "Unique Flights: [1.]\n"
     ]
    }
   ],
   "source": [
    "\"\"\"\n",
    "Flights: Number of Flights.\n",
    "\n",
    "The only value of this variable is 1. It will be removed.\n",
    "\"\"\"\n",
    "\n",
    "print(\"Unique Flights:\", combined_df['Flights'].unique())"
   ]
  },
  {
   "cell_type": "code",
   "execution_count": 17,
   "id": "62137f13-4638-43e7-95a4-1c1f5b2e75cd",
   "metadata": {
    "tags": []
   },
   "outputs": [
    {
     "name": "stdout",
     "output_type": "stream",
     "text": [
      "   Distance  DistanceGroup\n",
      "0     689.0              3\n",
      "1     731.0              3\n",
      "2    1199.0              5\n",
      "3    1587.0              7\n",
      "4    1587.0              7\n",
      "5     226.0              1\n",
      "6    1199.0              5\n",
      "7     689.0              3\n",
      "8     226.0              1\n",
      "9     226.0              1\n"
     ]
    }
   ],
   "source": [
    "\"\"\"\n",
    "Distance: Distance between airports (miles).\n",
    "DistanceGroup: Distance Intervals, every 250 Miles, for Flight Segment.\n",
    "\n",
    "These two variables both represents distance. We only need to keep Distance and we can derive any columns from it.\n",
    "\"\"\"\n",
    "\n",
    "print(combined_df[['Distance', 'DistanceGroup']].head(10))"
   ]
  },
  {
   "cell_type": "code",
   "execution_count": 18,
   "id": "ab2f4d5d-e886-4071-9ace-2f9a608825ff",
   "metadata": {
    "tags": []
   },
   "outputs": [
    {
     "name": "stdout",
     "output_type": "stream",
     "text": [
      "Shape of combined dataframe after removing extra columns: (1658130, 24)\n"
     ]
    }
   ],
   "source": [
    "columns_to_remove = ['DOT_ID_Reporting_Airline', 'IATA_CODE_Reporting_Airline', 'OriginAirportID', 'OriginCityMarketID', \n",
    "                     'OriginStateFips', 'OriginStateName', 'OriginWac', 'DestAirportID', 'DestCityMarketID', 'DestStateFips', \n",
    "                     'DestStateName', 'DestWac', 'DepTime', 'DepDelayMinutes', 'DepDel15', 'DepartureDelayGroups', \n",
    "                     'DepTimeBlk', 'TaxiOut','WheelsOff', 'WheelsOn', 'TaxiIn', 'ArrTime', 'ArrDelay', 'ArrDelayMinutes', \n",
    "                     'ArrDel15', 'ArrivalDelayGroups', 'ArrTimeBlk', 'ActualElapsedTime','AirTime', 'Flights', \n",
    "                     'DistanceGroup','DivAirportLandings']\n",
    "combined_df = combined_df.drop(columns=columns_to_remove, axis=1)\n",
    "print(\"Shape of combined dataframe after removing extra columns:\", combined_df.shape)"
   ]
  },
  {
   "cell_type": "code",
   "execution_count": 19,
   "id": "00afad4f-44cf-4959-9c63-ff9834e3f86b",
   "metadata": {},
   "outputs": [
    {
     "name": "stdout",
     "output_type": "stream",
     "text": [
      "Index(['Year', 'Quarter', 'Month', 'DayofMonth', 'DayOfWeek', 'FlightDate',\n",
      "       'Reporting_Airline', 'Tail_Number', 'Flight_Number_Reporting_Airline',\n",
      "       'OriginAirportSeqID', 'Origin', 'OriginCityName', 'OriginState',\n",
      "       'DestAirportSeqID', 'Dest', 'DestCityName', 'DestState', 'CRSDepTime',\n",
      "       'DepDelay', 'CRSArrTime', 'Cancelled', 'Diverted', 'CRSElapsedTime',\n",
      "       'Distance'],\n",
      "      dtype='object')\n"
     ]
    }
   ],
   "source": [
    "print(combined_df.columns)"
   ]
  },
  {
   "cell_type": "code",
   "execution_count": 20,
   "id": "584a9b3a-b6e7-4d44-8756-323eeba219ed",
   "metadata": {},
   "outputs": [],
   "source": [
    "combined_df.to_csv('csv_flight/combined_df.csv', index=False)  "
   ]
  }
 ],
 "metadata": {
  "kernelspec": {
   "display_name": "Python 3 (ipykernel)",
   "language": "python",
   "name": "python3"
  },
  "language_info": {
   "codemirror_mode": {
    "name": "ipython",
    "version": 3
   },
   "file_extension": ".py",
   "mimetype": "text/x-python",
   "name": "python",
   "nbconvert_exporter": "python",
   "pygments_lexer": "ipython3",
   "version": "3.11.5"
  }
 },
 "nbformat": 4,
 "nbformat_minor": 5
}
