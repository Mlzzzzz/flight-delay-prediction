{
 "cells": [
  {
   "cell_type": "code",
   "execution_count": null,
   "id": "f4f72202",
   "metadata": {},
   "outputs": [],
   "source": [
    "import pandas as pd\n",
    "import numpy as np"
   ]
  },
  {
   "cell_type": "code",
   "execution_count": null,
   "id": "e2c44487",
   "metadata": {},
   "outputs": [],
   "source": [
    "pd.set_option('display.max_columns', None)"
   ]
  },
  {
   "cell_type": "code",
   "execution_count": null,
   "id": "c081c32f",
   "metadata": {},
   "outputs": [],
   "source": [
    "data1 = pd.read_csv(\"csv-flight/preprocessed_df.csv\")"
   ]
  },
  {
   "cell_type": "code",
   "execution_count": null,
   "id": "26bc6d7e",
   "metadata": {},
   "outputs": [],
   "source": [
    "data.head()"
   ]
  },
  {
   "cell_type": "code",
   "execution_count": null,
   "id": "9335b614",
   "metadata": {},
   "outputs": [],
   "source": [
    "data = data1.drop(columns = ['FlightDate', 'Tail_Number', 'Flight_Number_Reporting_Airline', 'OriginCityName', 'OriginState', 'DestCityName', 'DestState', 'MinSince'])\n"
   ]
  },
  {
   "cell_type": "code",
   "execution_count": null,
   "id": "955b10aa",
   "metadata": {},
   "outputs": [],
   "source": [
    "data = pd.get_dummies(data)"
   ]
  },
  {
   "cell_type": "code",
   "execution_count": null,
   "id": "60b30222",
   "metadata": {},
   "outputs": [],
   "source": [
    "data['Delay'] = data['DepDelay'].apply(lambda x: 1 if x < 15.0 else 0)\n"
   ]
  },
  {
   "cell_type": "code",
   "execution_count": null,
   "id": "8dad25db",
   "metadata": {},
   "outputs": [],
   "source": [
    "data = data.drop(columns = ['DepDelay'])"
   ]
  },
  {
   "cell_type": "code",
   "execution_count": null,
   "id": "045e717e",
   "metadata": {},
   "outputs": [],
   "source": [
    "from sklearn.model_selection import train_test_split\n",
    "\n",
    "X = data.drop('Delay', axis=1)\n",
    "y = data['Delay']\n",
    "\n",
    "X_train, X_test, y_train, y_test = train_test_split(X, y, test_size=0.7, random_state=1)\n"
   ]
  },
  {
   "cell_type": "code",
   "execution_count": null,
   "id": "eb3ee221",
   "metadata": {},
   "outputs": [],
   "source": [
    "\n",
    "#remove any rows with DepDelay <= 0\n",
    "df_new = data1[data1['DepDelay'] > 0]\n",
    "\n",
    "#Keep these columns\n",
    "df_new = df_new[['Year', 'Month', 'DayofMonth', 'DayOfWeek', 'Reporting_Airline', 'Origin', 'Dest', 'CRSDepTime', 'DepDelay', 'CRSElapsedTime', 'Distance', 'is_holiday_week', 'TotalDensity', 'Visibility', 'WindSpeed', 'SevereWeather', 'BadWeather']]\n",
    "\n",
    "#turn all non-numerical data into numerical data, using .factorize()\n",
    "object_cols = df_new.select_dtypes(include='object').columns\n",
    "df_nums = df_new.copy()\n",
    "for col in object_cols:\n",
    "    df_nums[col],  = pd.factorize(df_new[col])\n",
    "\n",
    "#convert DepDelay into bins\n",
    "bins = [15, 30, 60, 120, 300, df_nums['DepDelay'].max()]\n",
    "labels = [0, 1, 2, 3, 4]\n",
    "df_nums['DepDelay'] = pd.cut(df_nums['DepDelay'], bins=bins, labels=labels)\n",
    "#drop rows with NaN\n",
    "df_nums = df_nums.dropna()\n",
    "\n",
    "#oversample the data to balance the classes\n",
    "from imblearn.over_sampling import RandomOverSampler\n",
    "\n",
    "ros = RandomOverSampler(random_state=0)\n",
    "X = df_nums.drop(columns=['DepDelay'])\n",
    "y = df_nums['DepDelay']\n",
    "\n",
    "X_resampled, y_resampled = ros.fit_resample(X, y)\n",
    "\n",
    "#split into training and testing\n",
    "X_train, X_test, y_train, y_test = train_test_split(X_resampled, y_resampled, test_size=0.2, random_state=32)"
   ]
  },
  {
   "cell_type": "code",
   "execution_count": null,
   "id": "ec12493c",
   "metadata": {},
   "outputs": [],
   "source": [
    "import xgboost as xgb\n",
    "from sklearn.model_selection import GridSearchCV\n",
    "from sklearn.metrics import accuracy_score\n",
    "\n",
    "xgb_classifier = xgb.XGBClassifier()\n",
    "\n",
    "param_grid = {\n",
    "    'max_depth': [3],\n",
    "    'learning_rate': [0.2],\n",
    "    'n_estimators': [100],\n",
    "    'gamma': [0.2]\n",
    "}\n",
    "\n",
    "grid_search = GridSearchCV(estimator=xgb_classifier, param_grid=param_grid, cv=5, scoring='accuracy')\n",
    "\n",
    "grid_search.fit(X_train, y_train)\n",
    "\n",
    "best_params = grid_search.best_params_\n",
    "best_xgb_classifier = grid_search.best_estimator_\n",
    "\n",
    "y_pred = best_xgb_classifier.predict(X_test)\n",
    "\n",
    "testing_accuracy = accuracy_score(y_test, y_pred)\n",
    "\n",
    "print(testing_accuracy)"
   ]
  },
  {
   "cell_type": "code",
   "execution_count": null,
   "id": "cd0f140b",
   "metadata": {},
   "outputs": [],
   "source": [
    "from sklearn.metrics import confusion_matrix\n",
    "import seaborn as sns\n",
    "import matplotlib.pyplot as plt\n",
    "\n",
    "conf_matrix = confusion_matrix(y_test, predictions)\n",
    "\n",
    "plt.figure(figsize=(8, 6))\n",
    "sns.heatmap(conf_matrix, annot=True, fmt=\"d\", cmap=\"Blues\", cbar=False)\n",
    "plt.title(\"XGBoost Confusion Matrix\")\n",
    "plt.xlabel(\"Predicted Label\")\n",
    "plt.ylabel(\"True Label\")\n",
    "plt.show()\n"
   ]
  },
  {
   "cell_type": "code",
   "execution_count": null,
   "id": "7efa2da5",
   "metadata": {},
   "outputs": [],
   "source": [
    "feature_importances = best_xgb_classifier.feature_importances_\n",
    "\n",
    "top_feature_indices = feature_importances.argsort()[::-1]\n",
    "\n",
    "top_features = [(X_train.columns[i], feature_importances[i]) for i in top_feature_indices]\n",
    "print(\"Top features:\")\n",
    "for feature, importance in top_features:\n",
    "    print(f\"{feature}: {importance}\")"
   ]
  },
  {
   "cell_type": "code",
   "execution_count": null,
   "id": "6c57f406",
   "metadata": {},
   "outputs": [],
   "source": [
    "from sklearn.ensemble import RandomForestClassifier\n",
    "from sklearn.metrics import accuracy_score\n",
    "from sklearn.model_selection import train_test_split\n",
    "\n",
    "rf_classifier = RandomForestClassifier()\n",
    "\n",
    "rf_classifier.fit(X_train, y_train)\n",
    "\n",
    "predictions = rf_classifier.predict(X_test)\n",
    "\n",
    "accuracy = accuracy_score(y_test, predictions)\n",
    "\n",
    "print(\"Random Forest Classifier Accuracy:\", accuracy)\n"
   ]
  },
  {
   "cell_type": "code",
   "execution_count": null,
   "id": "04ad2d54",
   "metadata": {},
   "outputs": [],
   "source": [
    "from sklearn.metrics import confusion_matrix\n",
    "import seaborn as sns\n",
    "import matplotlib.pyplot as plt\n",
    "\n",
    "conf_matrix = confusion_matrix(y_test, predictions)\n",
    "\n",
    "plt.figure(figsize=(8, 6))\n",
    "sns.heatmap(conf_matrix, annot=True, fmt=\"d\", cmap=\"Blues\", cbar=False)\n",
    "plt.title(\"Random Forest Confusion Matrix\")\n",
    "plt.xlabel(\"Predicted Label\")\n",
    "plt.ylabel(\"True Label\")\n",
    "plt.show()\n"
   ]
  },
  {
   "cell_type": "code",
   "execution_count": null,
   "id": "44522678",
   "metadata": {},
   "outputs": [],
   "source": [
    "X_train"
   ]
  },
  {
   "cell_type": "code",
   "execution_count": null,
   "id": "c215752f",
   "metadata": {},
   "outputs": [],
   "source": [
    "importances = rf_classifier.feature_importances_\n",
    "\n",
    "indices = np.argsort(importances)[::-1]\n",
    "\n",
    "print(\"Feature ranking:\")\n",
    "\n",
    "for f in range(X_train.shape[1]):\n",
    "    print(\"%d. Feature %d (%f)\" % (f + 1, indices[f], importances[indices[f]]))\n"
   ]
  },
  {
   "cell_type": "code",
   "execution_count": null,
   "id": "546f961c",
   "metadata": {},
   "outputs": [],
   "source": [
    "from sklearn.svm import SVC\n",
    "from sklearn.model_selection import GridSearchCV\n",
    "from sklearn.metrics import accuracy_score\n",
    "\n",
    "svm_classifier = SVC()\n",
    "\n",
    "param_grid = {\n",
    "    'C': [1.0],\n",
    "    'kernel': ['rbf'],\n",
    "    'gamma': ['scale']\n",
    "}\n",
    "\n",
    "grid_search = GridSearchCV(estimator=svm_classifier, param_grid=param_grid, cv=5, scoring='accuracy')\n",
    "\n",
    "grid_search.fit(X_train, y_train)\n",
    "\n",
    "best_params = grid_search.best_params_\n",
    "best_svm_classifier = grid_search.best_estimator_\n",
    "\n",
    "y_pred = best_svm_classifier.predict(X_test)\n",
    "\n",
    "testing_accuracy = accuracy_score(y_test, y_pred)\n",
    "\n",
    "print(testing_accuracy)"
   ]
  },
  {
   "cell_type": "code",
   "execution_count": null,
   "id": "be9c9a03",
   "metadata": {},
   "outputs": [],
   "source": [
    "from sklearn.linear_model import LogisticRegression\n",
    "from sklearn.model_selection import GridSearchCV\n",
    "from sklearn.metrics import accuracy_score\n",
    "\n",
    "logistic_classifier = LogisticRegression()\n",
    "\n",
    "param_grid = {\n",
    "    'C': [1.0],\n",
    "    'solver': ['liblinear'],\n",
    "    'penalty': ['l2']\n",
    "}\n",
    "\n",
    "grid_search = GridSearchCV(estimator=logistic_classifier, param_grid=param_grid, cv=5, scoring='accuracy')\n",
    "\n",
    "grid_search.fit(X_train, y_train)\n",
    "\n",
    "best_params = grid_search.best_params_\n",
    "best_logistic_classifier = grid_search.best_estimator_\n",
    "\n",
    "y_pred = best_logistic_classifier.predict(X_test)\n",
    "\n",
    "testing_accuracy = accuracy_score(y_test, y_pred)\n",
    "\n",
    "print(testing_accuracy)"
   ]
  },
  {
   "cell_type": "code",
   "execution_count": null,
   "id": "834a5c93",
   "metadata": {
    "scrolled": true
   },
   "outputs": [],
   "source": [
    "from sklearn.model_selection import train_test_split\n",
    "from sklearn.naive_bayes import GaussianNB\n",
    "from sklearn.metrics import accuracy_score, classification_report\n",
    "\n",
    "nb_classifier = GaussianNB()\n",
    "\n",
    "nb_classifier.fit(X_train, y_train)\n",
    "\n",
    "y_pred = nb_classifier.predict(X_test)\n",
    "\n",
    "accuracy = accuracy_score(y_test, y_pred)\n",
    "print(\"Accuracy:\", accuracy)\n",
    "\n",
    "print(classification_report(y_test, y_pred))"
   ]
  },
  {
   "cell_type": "code",
   "execution_count": null,
   "id": "f9f9acb1",
   "metadata": {},
   "outputs": [],
   "source": [
    "\n",
    "means = nb_classifier.theta_\n",
    "\n",
    "variances = nb_classifier.var_\n",
    "\n",
    "total_variance = variances.sum(axis=0)\n",
    "\n",
    "feature_importance = (total_variance / total_variance.sum()) * 100\n",
    "\n",
    "for i, importance in enumerate(feature_importance):\n",
    "    print(f\"Feature {i+1}: {importance:.2f}%\")\n"
   ]
  },
  {
   "cell_type": "code",
   "execution_count": null,
   "id": "31efe00a",
   "metadata": {},
   "outputs": [],
   "source": []
  }
 ],
 "metadata": {
  "kernelspec": {
   "display_name": "Python 3 (ipykernel)",
   "language": "python",
   "name": "python3"
  },
  "language_info": {
   "codemirror_mode": {
    "name": "ipython",
    "version": 3
   },
   "file_extension": ".py",
   "mimetype": "text/x-python",
   "name": "python",
   "nbconvert_exporter": "python",
   "pygments_lexer": "ipython3",
   "version": "3.9.12"
  }
 },
 "nbformat": 4,
 "nbformat_minor": 5
}
